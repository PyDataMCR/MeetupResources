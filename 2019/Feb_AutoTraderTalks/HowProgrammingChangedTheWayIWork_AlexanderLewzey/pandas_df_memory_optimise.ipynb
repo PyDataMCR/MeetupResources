{
 "cells": [
  {
   "cell_type": "code",
   "execution_count": 1,
   "metadata": {},
   "outputs": [],
   "source": [
    "\"\"\"\n",
    "functions that return the memory performance of dataframe and help\n",
    "to optimise the memory storage by downcasting numberic columns or \n",
    "converting string columns into categories where appropriate\n",
    "\"\"\";"
   ]
  },
  {
   "cell_type": "code",
   "execution_count": null,
   "metadata": {},
   "outputs": [],
   "source": [
    "# memory usage/saving\n",
    "\n",
    "def get_memory_usage(pd_obj: Union[pd.DataFrame, pd.Series]) -> None:\n",
    "    \"\"\"\n",
    "    print out the memory useage of a dataframe or series in mega bytes\n",
    "    \"\"\"\n",
    "    if isinstance(pd_obj, pd.DataFrame):\n",
    "        bytes_ = pd_obj.memory_usage(deep=True).sum()\n",
    "    else:\n",
    "        bytes_ = pd_obj.memory_usage(deep=True)\n",
    "    print(f'{bytes_/1024**2:.2f} MB')\n",
    "\n",
    "    \n",
    "def downcast_numeric(df: pd.DataFrame) -> pd.DataFrame:\n",
    "    \"\"\"\n",
    "    downcast int and float cols of a dataframe, returns a dataframe\n",
    "    \"\"\"\n",
    "    int_cols = df.select_dtypes(['int']).columns.tolist()\n",
    "    float_cols = df.select_dtypes(['float']).columns.tolist()\n",
    "    \n",
    "    df[int_cols] = df[int_cols].apply(pd.to_numeric, downcast='unsigned')\n",
    "    df[float_cols] = df[float_cols].apply(pd.to_numeric, downcast='float')\n",
    "    \n",
    "    return df\n",
    "\n",
    "def set_objs_to_cats(df: pd.DataFrame, threshold: float = 0.5, logger=None) -> pd.DataFrame:\n",
    "    \"\"\"\n",
    "    sets any column of type object to type categorical is the number of unique values is \n",
    "    below the threshold (default=0.5)\n",
    "    returns a dataframe\n",
    "    \"\"\"\n",
    "    cols_obj = df.select_dtypes(['object']).columns\n",
    "    len_index = len(df.index)\n",
    "\n",
    "    for col in cols_obj:\n",
    "        try:\n",
    "            n_unique = len(df[col].unique())\n",
    "            ratio = n_unique / len_index\n",
    "            if logger:\n",
    "                logger.debug(f'{col} ratio: {ratio}')\n",
    "\n",
    "            if ratio < 0.5:\n",
    "                df[col] = df[col].astype('category')\n",
    "        except TypeError:\n",
    "            print(f'Type error: {col}, unhasable type?')\n",
    "    \n",
    "    return df\n",
    "\n",
    "\n",
    "def make_df_memory_efficent(df: pd.DataFrame, **kwargs):\n",
    "    \"\"\"\n",
    "    downcast numeric values > set objects to cats > print of memory usage before and\n",
    "    after the processing\n",
    "    \"\"\"\n",
    "    get_memory_usage(df)\n",
    "    df = downcast_numeric(df)\n",
    "    df = set_objs_to_cats(df, **kwargs)\n",
    "    get_memory_usage(df)\n",
    "    return df\n",
    "\n",
    "\n",
    "def get_dtype_dict(df: pd.DataFrame) -> Dict:\n",
    "    \"\"\"\n",
    "    return a dict of column header keys and dtype values\n",
    "    \"\"\"\n",
    "    cols = df.columns.tolist()\n",
    "    dtypes = [i.name for i in df.dtypes.values]\n",
    "    return dict(zip(cols, dtypes))"
   ]
  },
  {
   "cell_type": "code",
   "execution_count": null,
   "metadata": {},
   "outputs": [],
   "source": [
    "def pickle_obj(obj, file_nm: str) -> None:\n",
    "    \"\"\"\n",
    "    save object to a pickle on your computer\n",
    "    \"\"\"\n",
    "    with open(file_nm, 'wb') as f:\n",
    "        pickle.dump(obj, f)"
   ]
  }
 ],
 "metadata": {
  "kernelspec": {
   "display_name": "Python 3",
   "language": "python",
   "name": "python3"
  },
  "language_info": {
   "codemirror_mode": {
    "name": "ipython",
    "version": 3
   },
   "file_extension": ".py",
   "mimetype": "text/x-python",
   "name": "python",
   "nbconvert_exporter": "python",
   "pygments_lexer": "ipython3",
   "version": "3.7.0"
  }
 },
 "nbformat": 4,
 "nbformat_minor": 2
}
