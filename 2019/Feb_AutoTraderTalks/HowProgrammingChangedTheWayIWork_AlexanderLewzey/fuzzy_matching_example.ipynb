{
 "cells": [
  {
   "cell_type": "markdown",
   "metadata": {},
   "source": [
    "### Notebook settings"
   ]
  },
  {
   "cell_type": "code",
   "execution_count": 14,
   "metadata": {},
   "outputs": [],
   "source": [
    "# importing modules\n",
    "import numpy as np\n",
    "import pandas as pd\n",
    "import warnings\n",
    "warnings.simplefilter('ignore')\n",
    "import os\n",
    "# fuzzy matching modules\n",
    "from fuzzywuzzy import fuzz\n",
    "from fuzzywuzzy import process\n",
    "\n",
    "# setting display settings\n",
    "pd.set_option('display.max_columns', 500)\n",
    "pd.set_option('display.max_rows', 500)"
   ]
  },
  {
   "cell_type": "code",
   "execution_count": 15,
   "metadata": {},
   "outputs": [],
   "source": [
    "# importing progress bar module\n",
    "from tqdm import tqdm, tqdm_pandas, tnrange, tqdm_notebook\n",
    "tqdm.pandas()"
   ]
  },
  {
   "cell_type": "code",
   "execution_count": 16,
   "metadata": {},
   "outputs": [],
   "source": [
    "# setting up excel spreadsheet\n",
    "path = 'fuzzy.xlsx'\n",
    "writer = pd.ExcelWriter(path, engine='xlsxwriter')"
   ]
  },
  {
   "cell_type": "markdown",
   "metadata": {},
   "source": [
    "### Importing data"
   ]
  },
  {
   "cell_type": "code",
   "execution_count": 1,
   "metadata": {},
   "outputs": [],
   "source": [
    "# herer is a toy example, i would normally be using a dataframes and convert the two series i am interested in matching into list ie ser.tolist()\n",
    "# i would then use the output index to merge the original dataframes together, there is probs a better way to do it but this\n",
    "# works for me\n",
    "\n",
    "companies_a = ['Hatch Regeneris', 'Krispy Kreme', 'Alex Lewzey', 'Sports Direct', 'Manchester City Council', 'Aldi', 'Autotrader Ltd', 'PyData']\n",
    "\n",
    "companies_b = ['Regeneris', 'Krispy Cream', 'Alexander Lewzey', 'Sports Direct Ltd', 'Manchester Council', 'Lidl', 'Autotrader Limited', 'PieData']"
   ]
  },
  {
   "cell_type": "markdown",
   "metadata": {},
   "source": [
    "### Finding matches"
   ]
  },
  {
   "cell_type": "code",
   "execution_count": 19,
   "metadata": {},
   "outputs": [],
   "source": [
    "# finding the best match for each entry\n",
    "def fuzzy_match_index(iterable, lookup, iterable_name='iterable', lookup_name='lookup'):\n",
    "    \"\"\"\n",
    "    Return a dataframe of two fuzzy matched lists with fuzz score where the iterable contains \n",
    "    the individual items that are searched for in the lookup list.\n",
    "    \"\"\"\n",
    "    matched_data = []\n",
    "    for item in tqdm(iterable): # data b is the short list\n",
    "\n",
    "        new_cln = [item]\n",
    "        new_cln.extend(process.extractOne(item, lookup, scorer=fuzz.ratio))\n",
    "        newtuple = tuple(new_cln)\n",
    "\n",
    "        matched_data.append(newtuple)\n",
    "\n",
    "    df_matched_data = pd.DataFrame(matched_data)\n",
    "    df_matched_data.columns = [iterable_name, lookup_name, 'fuzz ratio']\n",
    "    \n",
    "    return df_matched_data"
   ]
  },
  {
   "cell_type": "code",
   "execution_count": 20,
   "metadata": {},
   "outputs": [
    {
     "name": "stderr",
     "output_type": "stream",
     "text": [
      "100%|██████████████████████████████████████████████████████████████████████████████████| 8/8 [00:00<00:00, 3986.98it/s]\n"
     ]
    }
   ],
   "source": [
    "results = fuzzy_match_index(companies_a, companies_b, 'companies_a', 'companies_b')"
   ]
  },
  {
   "cell_type": "code",
   "execution_count": 21,
   "metadata": {},
   "outputs": [
    {
     "data": {
      "text/html": [
       "<div>\n",
       "<style scoped>\n",
       "    .dataframe tbody tr th:only-of-type {\n",
       "        vertical-align: middle;\n",
       "    }\n",
       "\n",
       "    .dataframe tbody tr th {\n",
       "        vertical-align: top;\n",
       "    }\n",
       "\n",
       "    .dataframe thead th {\n",
       "        text-align: right;\n",
       "    }\n",
       "</style>\n",
       "<table border=\"1\" class=\"dataframe\">\n",
       "  <thead>\n",
       "    <tr style=\"text-align: right;\">\n",
       "      <th></th>\n",
       "      <th>companies_a</th>\n",
       "      <th>companies_b</th>\n",
       "      <th>fuzz ratio</th>\n",
       "    </tr>\n",
       "  </thead>\n",
       "  <tbody>\n",
       "    <tr>\n",
       "      <th>4</th>\n",
       "      <td>Manchester City Council</td>\n",
       "      <td>Manchester Council</td>\n",
       "      <td>88</td>\n",
       "    </tr>\n",
       "    <tr>\n",
       "      <th>6</th>\n",
       "      <td>Autotrader Ltd</td>\n",
       "      <td>Autotrader Limited</td>\n",
       "      <td>88</td>\n",
       "    </tr>\n",
       "    <tr>\n",
       "      <th>3</th>\n",
       "      <td>Sports Direct</td>\n",
       "      <td>Sports Direct Ltd</td>\n",
       "      <td>87</td>\n",
       "    </tr>\n",
       "    <tr>\n",
       "      <th>1</th>\n",
       "      <td>Krispy Kreme</td>\n",
       "      <td>Krispy Cream</td>\n",
       "      <td>83</td>\n",
       "    </tr>\n",
       "    <tr>\n",
       "      <th>2</th>\n",
       "      <td>Alex Lewzey</td>\n",
       "      <td>Alexander Lewzey</td>\n",
       "      <td>81</td>\n",
       "    </tr>\n",
       "    <tr>\n",
       "      <th>7</th>\n",
       "      <td>PyData</td>\n",
       "      <td>PieData</td>\n",
       "      <td>77</td>\n",
       "    </tr>\n",
       "    <tr>\n",
       "      <th>0</th>\n",
       "      <td>Hatch Regeneris</td>\n",
       "      <td>Regeneris</td>\n",
       "      <td>75</td>\n",
       "    </tr>\n",
       "    <tr>\n",
       "      <th>5</th>\n",
       "      <td>Aldi</td>\n",
       "      <td>Lidl</td>\n",
       "      <td>50</td>\n",
       "    </tr>\n",
       "  </tbody>\n",
       "</table>\n",
       "</div>"
      ],
      "text/plain": [
       "               companies_a         companies_b  fuzz ratio\n",
       "4  Manchester City Council  Manchester Council          88\n",
       "6           Autotrader Ltd  Autotrader Limited          88\n",
       "3            Sports Direct   Sports Direct Ltd          87\n",
       "1             Krispy Kreme        Krispy Cream          83\n",
       "2              Alex Lewzey    Alexander Lewzey          81\n",
       "7                   PyData             PieData          77\n",
       "0          Hatch Regeneris           Regeneris          75\n",
       "5                     Aldi                Lidl          50"
      ]
     },
     "execution_count": 21,
     "metadata": {},
     "output_type": "execute_result"
    }
   ],
   "source": [
    "results.sort_values('fuzz ratio', ascending=False)"
   ]
  },
  {
   "cell_type": "markdown",
   "metadata": {},
   "source": [
    "### Exporting the data"
   ]
  },
  {
   "cell_type": "code",
   "execution_count": 22,
   "metadata": {},
   "outputs": [],
   "source": [
    "results.to_clipboard(index=False)"
   ]
  },
  {
   "cell_type": "code",
   "execution_count": 23,
   "metadata": {},
   "outputs": [],
   "source": [
    "writer.save()\n",
    "writer.close()"
   ]
  }
 ],
 "metadata": {
  "kernelspec": {
   "display_name": "Python 3",
   "language": "python",
   "name": "python3"
  },
  "language_info": {
   "codemirror_mode": {
    "name": "ipython",
    "version": 3
   },
   "file_extension": ".py",
   "mimetype": "text/x-python",
   "name": "python",
   "nbconvert_exporter": "python",
   "pygments_lexer": "ipython3",
   "version": "3.7.0"
  }
 },
 "nbformat": 4,
 "nbformat_minor": 2
}
