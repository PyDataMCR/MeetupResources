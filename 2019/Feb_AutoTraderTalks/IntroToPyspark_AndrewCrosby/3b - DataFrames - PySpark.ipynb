{
 "cells": [
  {
   "cell_type": "markdown",
   "metadata": {},
   "source": [
    "# DataFrames - PySpark\n",
    "\n",
    "Example analysis with the Movielens data set to demonstrate common data manipulation steps using PySpark"
   ]
  },
  {
   "cell_type": "code",
   "execution_count": 1,
   "metadata": {},
   "outputs": [],
   "source": [
    "import datetime"
   ]
  },
  {
   "cell_type": "code",
   "execution_count": 2,
   "metadata": {},
   "outputs": [],
   "source": [
    "import findspark\n",
    "findspark.init()"
   ]
  },
  {
   "cell_type": "code",
   "execution_count": 3,
   "metadata": {},
   "outputs": [],
   "source": [
    "from pyspark.sql import SparkSession\n",
    "import pyspark.sql.functions as F\n",
    "from pyspark.sql.functions import col"
   ]
  },
  {
   "cell_type": "markdown",
   "metadata": {},
   "source": [
    "### Create a Spark session"
   ]
  },
  {
   "cell_type": "markdown",
   "metadata": {},
   "source": [
    "Standalone Spark with two worker threads"
   ]
  },
  {
   "cell_type": "code",
   "execution_count": 4,
   "metadata": {},
   "outputs": [],
   "source": [
    "spark = SparkSession.builder.appName(\"movielens\").master(\"local[2]\").getOrCreate()"
   ]
  },
  {
   "cell_type": "markdown",
   "metadata": {},
   "source": [
    "### Read data from CSV"
   ]
  },
  {
   "cell_type": "markdown",
   "metadata": {},
   "source": [
    "Movie dimension table"
   ]
  },
  {
   "cell_type": "code",
   "execution_count": 5,
   "metadata": {},
   "outputs": [],
   "source": [
    "movies = spark.read.format(\"csv\").option(\"header\", \"true\").load(\"data/ml-20m/movies.csv\")"
   ]
  },
  {
   "cell_type": "code",
   "execution_count": 6,
   "metadata": {},
   "outputs": [
    {
     "name": "stdout",
     "output_type": "stream",
     "text": [
      "root\n",
      " |-- movieId: string (nullable = true)\n",
      " |-- title: string (nullable = true)\n",
      " |-- genres: string (nullable = true)\n",
      "\n"
     ]
    }
   ],
   "source": [
    "movies.printSchema()"
   ]
  },
  {
   "cell_type": "code",
   "execution_count": 7,
   "metadata": {},
   "outputs": [
    {
     "name": "stdout",
     "output_type": "stream",
     "text": [
      "+-------+--------------------+--------------------+\n",
      "|movieId|               title|              genres|\n",
      "+-------+--------------------+--------------------+\n",
      "|      1|    Toy Story (1995)|Adventure|Animati...|\n",
      "|      2|      Jumanji (1995)|Adventure|Childre...|\n",
      "|      3|Grumpier Old Men ...|      Comedy|Romance|\n",
      "|      4|Waiting to Exhale...|Comedy|Drama|Romance|\n",
      "|      5|Father of the Bri...|              Comedy|\n",
      "|      6|         Heat (1995)|Action|Crime|Thri...|\n",
      "|      7|      Sabrina (1995)|      Comedy|Romance|\n",
      "|      8| Tom and Huck (1995)|  Adventure|Children|\n",
      "|      9| Sudden Death (1995)|              Action|\n",
      "|     10|    GoldenEye (1995)|Action|Adventure|...|\n",
      "+-------+--------------------+--------------------+\n",
      "only showing top 10 rows\n",
      "\n"
     ]
    }
   ],
   "source": [
    "movies.show(10)"
   ]
  },
  {
   "cell_type": "code",
   "execution_count": 8,
   "metadata": {},
   "outputs": [
    {
     "data": {
      "text/html": [
       "<div>\n",
       "<style scoped>\n",
       "    .dataframe tbody tr th:only-of-type {\n",
       "        vertical-align: middle;\n",
       "    }\n",
       "\n",
       "    .dataframe tbody tr th {\n",
       "        vertical-align: top;\n",
       "    }\n",
       "\n",
       "    .dataframe thead th {\n",
       "        text-align: right;\n",
       "    }\n",
       "</style>\n",
       "<table border=\"1\" class=\"dataframe\">\n",
       "  <thead>\n",
       "    <tr style=\"text-align: right;\">\n",
       "      <th></th>\n",
       "      <th>movieId</th>\n",
       "      <th>title</th>\n",
       "      <th>genres</th>\n",
       "    </tr>\n",
       "  </thead>\n",
       "  <tbody>\n",
       "    <tr>\n",
       "      <th>0</th>\n",
       "      <td>1</td>\n",
       "      <td>Toy Story (1995)</td>\n",
       "      <td>Adventure|Animation|Children|Comedy|Fantasy</td>\n",
       "    </tr>\n",
       "    <tr>\n",
       "      <th>1</th>\n",
       "      <td>2</td>\n",
       "      <td>Jumanji (1995)</td>\n",
       "      <td>Adventure|Children|Fantasy</td>\n",
       "    </tr>\n",
       "    <tr>\n",
       "      <th>2</th>\n",
       "      <td>3</td>\n",
       "      <td>Grumpier Old Men (1995)</td>\n",
       "      <td>Comedy|Romance</td>\n",
       "    </tr>\n",
       "    <tr>\n",
       "      <th>3</th>\n",
       "      <td>4</td>\n",
       "      <td>Waiting to Exhale (1995)</td>\n",
       "      <td>Comedy|Drama|Romance</td>\n",
       "    </tr>\n",
       "    <tr>\n",
       "      <th>4</th>\n",
       "      <td>5</td>\n",
       "      <td>Father of the Bride Part II (1995)</td>\n",
       "      <td>Comedy</td>\n",
       "    </tr>\n",
       "    <tr>\n",
       "      <th>5</th>\n",
       "      <td>6</td>\n",
       "      <td>Heat (1995)</td>\n",
       "      <td>Action|Crime|Thriller</td>\n",
       "    </tr>\n",
       "    <tr>\n",
       "      <th>6</th>\n",
       "      <td>7</td>\n",
       "      <td>Sabrina (1995)</td>\n",
       "      <td>Comedy|Romance</td>\n",
       "    </tr>\n",
       "    <tr>\n",
       "      <th>7</th>\n",
       "      <td>8</td>\n",
       "      <td>Tom and Huck (1995)</td>\n",
       "      <td>Adventure|Children</td>\n",
       "    </tr>\n",
       "    <tr>\n",
       "      <th>8</th>\n",
       "      <td>9</td>\n",
       "      <td>Sudden Death (1995)</td>\n",
       "      <td>Action</td>\n",
       "    </tr>\n",
       "    <tr>\n",
       "      <th>9</th>\n",
       "      <td>10</td>\n",
       "      <td>GoldenEye (1995)</td>\n",
       "      <td>Action|Adventure|Thriller</td>\n",
       "    </tr>\n",
       "  </tbody>\n",
       "</table>\n",
       "</div>"
      ],
      "text/plain": [
       "  movieId                               title  \\\n",
       "0       1                    Toy Story (1995)   \n",
       "1       2                      Jumanji (1995)   \n",
       "2       3             Grumpier Old Men (1995)   \n",
       "3       4            Waiting to Exhale (1995)   \n",
       "4       5  Father of the Bride Part II (1995)   \n",
       "5       6                         Heat (1995)   \n",
       "6       7                      Sabrina (1995)   \n",
       "7       8                 Tom and Huck (1995)   \n",
       "8       9                 Sudden Death (1995)   \n",
       "9      10                    GoldenEye (1995)   \n",
       "\n",
       "                                        genres  \n",
       "0  Adventure|Animation|Children|Comedy|Fantasy  \n",
       "1                   Adventure|Children|Fantasy  \n",
       "2                               Comedy|Romance  \n",
       "3                         Comedy|Drama|Romance  \n",
       "4                                       Comedy  \n",
       "5                        Action|Crime|Thriller  \n",
       "6                               Comedy|Romance  \n",
       "7                           Adventure|Children  \n",
       "8                                       Action  \n",
       "9                    Action|Adventure|Thriller  "
      ]
     },
     "execution_count": 8,
     "metadata": {},
     "output_type": "execute_result"
    }
   ],
   "source": [
    "movies.limit(10).toPandas()"
   ]
  },
  {
   "cell_type": "markdown",
   "metadata": {},
   "source": [
    "Ratings fact table"
   ]
  },
  {
   "cell_type": "code",
   "execution_count": 9,
   "metadata": {},
   "outputs": [],
   "source": [
    "ratings = spark.read.format(\"csv\").option(\"header\", \"true\").load(\"data/ml-20m/ratings.csv\")"
   ]
  },
  {
   "cell_type": "code",
   "execution_count": 10,
   "metadata": {},
   "outputs": [
    {
     "name": "stdout",
     "output_type": "stream",
     "text": [
      "+------+-------+------+----------+\n",
      "|userId|movieId|rating| timestamp|\n",
      "+------+-------+------+----------+\n",
      "|     1|      2|   3.5|1112486027|\n",
      "|     1|     29|   3.5|1112484676|\n",
      "|     1|     32|   3.5|1112484819|\n",
      "|     1|     47|   3.5|1112484727|\n",
      "|     1|     50|   3.5|1112484580|\n",
      "|     1|    112|   3.5|1094785740|\n",
      "|     1|    151|   4.0|1094785734|\n",
      "|     1|    223|   4.0|1112485573|\n",
      "|     1|    253|   4.0|1112484940|\n",
      "|     1|    260|   4.0|1112484826|\n",
      "+------+-------+------+----------+\n",
      "only showing top 10 rows\n",
      "\n"
     ]
    }
   ],
   "source": [
    "ratings.show(10)"
   ]
  },
  {
   "cell_type": "markdown",
   "metadata": {},
   "source": [
    "### Add a column"
   ]
  },
  {
   "cell_type": "markdown",
   "metadata": {},
   "source": [
    "Convert timestamp to a Spark datetime format"
   ]
  },
  {
   "cell_type": "code",
   "execution_count": 11,
   "metadata": {},
   "outputs": [
    {
     "name": "stdout",
     "output_type": "stream",
     "text": [
      "+------+-------+------+----------+-------------------+\n",
      "|userId|movieId|rating| timestamp|               time|\n",
      "+------+-------+------+----------+-------------------+\n",
      "|     1|      2|   3.5|1112486027|2005-04-03 00:53:47|\n",
      "|     1|     29|   3.5|1112484676|2005-04-03 00:31:16|\n",
      "|     1|     32|   3.5|1112484819|2005-04-03 00:33:39|\n",
      "|     1|     47|   3.5|1112484727|2005-04-03 00:32:07|\n",
      "|     1|     50|   3.5|1112484580|2005-04-03 00:29:40|\n",
      "|     1|    112|   3.5|1094785740|2004-09-10 04:09:00|\n",
      "|     1|    151|   4.0|1094785734|2004-09-10 04:08:54|\n",
      "|     1|    223|   4.0|1112485573|2005-04-03 00:46:13|\n",
      "|     1|    253|   4.0|1112484940|2005-04-03 00:35:40|\n",
      "|     1|    260|   4.0|1112484826|2005-04-03 00:33:46|\n",
      "+------+-------+------+----------+-------------------+\n",
      "only showing top 10 rows\n",
      "\n"
     ]
    }
   ],
   "source": [
    "ratingsWithTime = ratings.withColumn(\"time\", F.from_unixtime(\"timestamp\"))\n",
    "ratingsWithTime.show(10)"
   ]
  },
  {
   "cell_type": "markdown",
   "metadata": {},
   "source": [
    "### Filter"
   ]
  },
  {
   "cell_type": "markdown",
   "metadata": {},
   "source": [
    "Only include movies that were rated in 2009"
   ]
  },
  {
   "cell_type": "code",
   "execution_count": 13,
   "metadata": {},
   "outputs": [
    {
     "name": "stdout",
     "output_type": "stream",
     "text": [
      "+------+-------+------+----------+-------------------+\n",
      "|userId|movieId|rating| timestamp|               time|\n",
      "+------+-------+------+----------+-------------------+\n",
      "|    11|      1|   4.5|1230858821|2009-01-02 01:13:41|\n",
      "|    11|     10|   2.5|1230858959|2009-01-02 01:15:59|\n",
      "|    11|     19|   3.5|1230783704|2009-01-01 04:21:44|\n",
      "|    11|     32|   5.0|1230783095|2009-01-01 04:11:35|\n",
      "|    11|     39|   4.5|1230859032|2009-01-02 01:17:12|\n",
      "|    11|     65|   2.0|1230856649|2009-01-02 00:37:29|\n",
      "|    11|    110|   4.0|1230853748|2009-01-01 23:49:08|\n",
      "|    11|    145|   3.0|1230785947|2009-01-01 04:59:07|\n",
      "|    11|    150|   5.0|1230785343|2009-01-01 04:49:03|\n",
      "|    11|    153|   3.5|1230858914|2009-01-02 01:15:14|\n",
      "+------+-------+------+----------+-------------------+\n",
      "only showing top 10 rows\n",
      "\n"
     ]
    }
   ],
   "source": [
    "ratingsFiltered = ratingsWithTime.filter(col(\"time\").between(datetime.date(2009,1,1), datetime.date(2010,1,1)))\n",
    "ratingsFiltered.show(10)"
   ]
  },
  {
   "cell_type": "markdown",
   "metadata": {},
   "source": [
    "### Group by/Aggregation"
   ]
  },
  {
   "cell_type": "markdown",
   "metadata": {},
   "source": [
    "Group by movieId and aggregate to find the total number of ratings and their average value"
   ]
  },
  {
   "cell_type": "code",
   "execution_count": 14,
   "metadata": {},
   "outputs": [
    {
     "name": "stdout",
     "output_type": "stream",
     "text": [
      "+-------+-------------+-----+\n",
      "|movieId|averageRating|count|\n",
      "+-------+-------------+-----+\n",
      "|   7989|          5.0|    1|\n",
      "|  72714|          5.0|    1|\n",
      "|   7887|          5.0|    1|\n",
      "|  72647|          5.0|    1|\n",
      "|     59|          5.0|    1|\n",
      "|   6179|          5.0|    1|\n",
      "|   5306|          5.0|    1|\n",
      "|   5149|          5.0|    1|\n",
      "|   9016|          5.0|    1|\n",
      "|   8824|          5.0|    1|\n",
      "+-------+-------------+-----+\n",
      "only showing top 10 rows\n",
      "\n"
     ]
    }
   ],
   "source": [
    "averageRatings = ratingsFiltered.groupBy(\"movieId\")\\\n",
    "                                .agg(\n",
    "                                   F.mean(\"rating\").alias(\"averageRating\"), \n",
    "                                   F.count(\"rating\").alias(\"count\")\n",
    "                                )\\\n",
    "                                .orderBy(col(\"averageRating\").desc())\n",
    "averageRatings.show(10)"
   ]
  },
  {
   "cell_type": "markdown",
   "metadata": {},
   "source": [
    "### Filter again"
   ]
  },
  {
   "cell_type": "markdown",
   "metadata": {},
   "source": [
    "Only include movies with at least 100 reviews"
   ]
  },
  {
   "cell_type": "code",
   "execution_count": 15,
   "metadata": {},
   "outputs": [],
   "source": [
    "averageRatingsFiltered = averageRatings.filter(col(\"count\") > 100)\n",
    "#averageRatingsFiltered.show(10)"
   ]
  },
  {
   "cell_type": "markdown",
   "metadata": {},
   "source": [
    "### Join"
   ]
  },
  {
   "cell_type": "markdown",
   "metadata": {},
   "source": [
    "Join with the movie dimension table"
   ]
  },
  {
   "cell_type": "code",
   "execution_count": 16,
   "metadata": {},
   "outputs": [
    {
     "name": "stdout",
     "output_type": "stream",
     "text": [
      "+-------+------------------+-----+--------------------+--------------------+\n",
      "|movieId|     averageRating|count|               title|              genres|\n",
      "+-------+------------------+-----+--------------------+--------------------+\n",
      "|    318| 4.439954250857796| 2623|Shawshank Redempt...|         Crime|Drama|\n",
      "|   2959| 4.313030638612034| 2709|   Fight Club (1999)|Action|Crime|Dram...|\n",
      "|    296|  4.28169014084507| 2556| Pulp Fiction (1994)|Comedy|Crime|Dram...|\n",
      "|   6016| 4.273633998265395| 1153|City of God (Cida...|Action|Adventure|...|\n",
      "|   5618| 4.265720081135902|  986|Spirited Away (Se...|Adventure|Animati...|\n",
      "|     50| 4.259036144578313| 1826|Usual Suspects, T...|Crime|Mystery|Thr...|\n",
      "|    926|  4.25531914893617|  141|All About Eve (1950)|               Drama|\n",
      "|   1201|4.2485337243401755|  682|Good, the Bad and...|Action|Adventure|...|\n",
      "|    858| 4.246623446785521| 1851|Godfather, The (1...|         Crime|Drama|\n",
      "|  44555| 4.224397590361446|  664|Lives of Others, ...|Drama|Romance|Thr...|\n",
      "+-------+------------------+-----+--------------------+--------------------+\n",
      "only showing top 10 rows\n",
      "\n"
     ]
    }
   ],
   "source": [
    "averageRatingsWithMovie = averageRatingsFiltered.join(movies, on=\"movieId\", how=\"inner\")\\\n",
    "                                                .orderBy(col(\"averageRating\").desc())\n",
    "averageRatingsWithMovie.show(10)"
   ]
  },
  {
   "cell_type": "markdown",
   "metadata": {},
   "source": [
    "### Filter again"
   ]
  },
  {
   "cell_type": "markdown",
   "metadata": {},
   "source": [
    "Only include movies with at least 100 reviews"
   ]
  },
  {
   "cell_type": "code",
   "execution_count": 17,
   "metadata": {},
   "outputs": [],
   "source": [
    "topWesterns = averageRatingsWithMovie.filter(col(\"genres\").like(\"%Western%\"))\n",
    "#topWesterns.show(10)"
   ]
  },
  {
   "cell_type": "markdown",
   "metadata": {},
   "source": [
    "### Chain into a single query and cache result"
   ]
  },
  {
   "cell_type": "code",
   "execution_count": 18,
   "metadata": {},
   "outputs": [
    {
     "name": "stdout",
     "output_type": "stream",
     "text": [
      "+-------+------------------+-----+--------------------+--------------------+\n",
      "|movieId|     averageRating|count|               title|              genres|\n",
      "+-------+------------------+-----+--------------------+--------------------+\n",
      "|   1201|4.2485337243401755|  682|Good, the Bad and...|Action|Adventure|...|\n",
      "|   1209| 4.163732394366197|  284|Once Upon a Time ...|Action|Drama|Western|\n",
      "|   1254| 4.134615384615385|  130|Treasure of the S...|Action|Adventure|...|\n",
      "|   1304| 4.041533546325879|  313|Butch Cassidy and...|      Action|Western|\n",
      "|   3681|  4.03584229390681|  279|For a Few Dollars...|Action|Drama|Thri...|\n",
      "|   1266| 4.031890660592255|  439|   Unforgiven (1992)|       Drama|Western|\n",
      "|  26649|3.9615384615384617|  195|Lonesome Dove (1989)|Adventure|Drama|W...|\n",
      "|   2951|3.9610591900311527|  321|Fistful of Dollar...|      Action|Western|\n",
      "|    714|3.9166666666666665|  156|     Dead Man (1995)|Drama|Mystery|Wes...|\n",
      "|  56782|3.9119278779472952|  721|There Will Be Blo...|       Drama|Western|\n",
      "+-------+------------------+-----+--------------------+--------------------+\n",
      "only showing top 10 rows\n",
      "\n",
      "Wall time: 22.7 s\n"
     ]
    }
   ],
   "source": [
    "%%time\n",
    "combinedQuery = ratings.withColumn(\"time\", F.from_unixtime(\"timestamp\"))\\\n",
    "                       .filter(col(\"time\").between(datetime.date(2009,1,1), datetime.date(2010,1,1)))\\\n",
    "                       .groupBy(\"movieId\")\\\n",
    "                       .agg(F.mean(\"rating\").alias(\"averageRating\"), F.count(\"rating\").alias(\"count\"))\\\n",
    "                       .filter(col(\"count\") > 100)\\\n",
    "                       .join(movies, on=\"movieId\", how=\"inner\")\\\n",
    "                       .filter(col(\"genres\").like(\"%Western%\"))\\\n",
    "                       .orderBy(col(\"averageRating\").desc())\\\n",
    "                       .cache()\n",
    "combinedQuery.show(10)"
   ]
  },
  {
   "cell_type": "code",
   "execution_count": 19,
   "metadata": {},
   "outputs": [
    {
     "name": "stdout",
     "output_type": "stream",
     "text": [
      "+-------+------------------+-----+--------------------+--------------------+\n",
      "|movieId|     averageRating|count|               title|              genres|\n",
      "+-------+------------------+-----+--------------------+--------------------+\n",
      "|   1201|4.2485337243401755|  682|Good, the Bad and...|Action|Adventure|...|\n",
      "|   1209| 4.163732394366197|  284|Once Upon a Time ...|Action|Drama|Western|\n",
      "|   1254| 4.134615384615385|  130|Treasure of the S...|Action|Adventure|...|\n",
      "|   1304| 4.041533546325879|  313|Butch Cassidy and...|      Action|Western|\n",
      "|   3681|  4.03584229390681|  279|For a Few Dollars...|Action|Drama|Thri...|\n",
      "|   1266| 4.031890660592255|  439|   Unforgiven (1992)|       Drama|Western|\n",
      "|  26649|3.9615384615384617|  195|Lonesome Dove (1989)|Adventure|Drama|W...|\n",
      "|   2951|3.9610591900311527|  321|Fistful of Dollar...|      Action|Western|\n",
      "|    714|3.9166666666666665|  156|     Dead Man (1995)|Drama|Mystery|Wes...|\n",
      "|  56782|3.9119278779472952|  721|There Will Be Blo...|       Drama|Western|\n",
      "+-------+------------------+-----+--------------------+--------------------+\n",
      "only showing top 10 rows\n",
      "\n",
      "Wall time: 209 ms\n"
     ]
    }
   ],
   "source": [
    "%%time\n",
    "combinedQuery = ratings.withColumn(\"time\", F.from_unixtime(\"timestamp\"))\\\n",
    "                       .filter(col(\"time\").between(datetime.date(2009,1,1), datetime.date(2010,1,1)))\\\n",
    "                       .groupBy(\"movieId\")\\\n",
    "                       .agg(F.mean(\"rating\").alias(\"averageRating\"), F.count(\"rating\").alias(\"count\"))\\\n",
    "                       .filter(col(\"count\") > 100)\\\n",
    "                       .join(movies, on=\"movieId\", how=\"inner\")\\\n",
    "                       .filter(col(\"genres\").like(\"%Western%\"))\\\n",
    "                       .orderBy(col(\"averageRating\").desc())\\\n",
    "                       .cache()\n",
    "combinedQuery.show(10)"
   ]
  },
  {
   "cell_type": "markdown",
   "metadata": {},
   "source": [
    "### Execution plan"
   ]
  },
  {
   "cell_type": "code",
   "execution_count": 21,
   "metadata": {},
   "outputs": [
    {
     "name": "stdout",
     "output_type": "stream",
     "text": [
      "== Parsed Logical Plan ==\n",
      "'Sort ['averageRating DESC NULLS LAST], true\n",
      "+- AnalysisBarrier\n",
      "      +- Filter genres#12 LIKE %Western%\n",
      "         +- Project [movieId#45, averageRating#331, count#334L, title#11, genres#12]\n",
      "            +- Join Inner, (movieId#45 = movieId#10)\n",
      "               :- Filter (count#334L > cast(100 as bigint))\n",
      "               :  +- Aggregate [movieId#45], [movieId#45, avg(cast(rating#46 as double)) AS averageRating#331, count(rating#46) AS count#334L]\n",
      "               :     +- Filter ((time#318 >= cast(14245 as string)) && (time#318 <= cast(14610 as string)))\n",
      "               :        +- Project [userId#44, movieId#45, rating#46, timestamp#47, from_unixtime(cast(timestamp#47 as bigint), yyyy-MM-dd HH:mm:ss, Some(Europe/London)) AS time#318]\n",
      "               :           +- Relation[userId#44,movieId#45,rating#46,timestamp#47] csv\n",
      "               +- Relation[movieId#10,title#11,genres#12] csv\n",
      "\n",
      "== Analyzed Logical Plan ==\n",
      "movieId: string, averageRating: double, count: bigint, title: string, genres: string\n",
      "Sort [averageRating#331 DESC NULLS LAST], true\n",
      "+- Filter genres#12 LIKE %Western%\n",
      "   +- Project [movieId#45, averageRating#331, count#334L, title#11, genres#12]\n",
      "      +- Join Inner, (movieId#45 = movieId#10)\n",
      "         :- Filter (count#334L > cast(100 as bigint))\n",
      "         :  +- Aggregate [movieId#45], [movieId#45, avg(cast(rating#46 as double)) AS averageRating#331, count(rating#46) AS count#334L]\n",
      "         :     +- Filter ((time#318 >= cast(14245 as string)) && (time#318 <= cast(14610 as string)))\n",
      "         :        +- Project [userId#44, movieId#45, rating#46, timestamp#47, from_unixtime(cast(timestamp#47 as bigint), yyyy-MM-dd HH:mm:ss, Some(Europe/London)) AS time#318]\n",
      "         :           +- Relation[userId#44,movieId#45,rating#46,timestamp#47] csv\n",
      "         +- Relation[movieId#10,title#11,genres#12] csv\n",
      "\n",
      "== Optimized Logical Plan ==\n",
      "InMemoryRelation [movieId#45, averageRating#331, count#334L, title#11, genres#12], true, 10000, StorageLevel(disk, memory, deserialized, 1 replicas)\n",
      "   +- *(4) Sort [averageRating#219 DESC NULLS LAST], true, 0\n",
      "      +- Exchange rangepartitioning(averageRating#219 DESC NULLS LAST, 200)\n",
      "         +- *(3) Project [movieId#45, averageRating#219, count#222L, title#11, genres#12]\n",
      "            +- *(3) BroadcastHashJoin [movieId#45], [movieId#10], Inner, BuildRight\n",
      "               :- *(3) Filter (count#222L > 100)\n",
      "               :  +- *(3) HashAggregate(keys=[movieId#45], functions=[avg(cast(rating#46 as double)), count(rating#46)], output=[movieId#45, averageRating#219, count#222L])\n",
      "               :     +- Exchange hashpartitioning(movieId#45, 200)\n",
      "               :        +- *(1) HashAggregate(keys=[movieId#45], functions=[partial_avg(cast(rating#46 as double)), partial_count(rating#46)], output=[movieId#45, sum#242, count#243L, count#244L])\n",
      "               :           +- *(1) Project [movieId#45, rating#46]\n",
      "               :              +- *(1) Filter (((from_unixtime(cast(timestamp#47 as bigint), yyyy-MM-dd HH:mm:ss, Some(Europe/London)) >= 2009-01-01) && (from_unixtime(cast(timestamp#47 as bigint), yyyy-MM-dd HH:mm:ss, Some(Europe/London)) <= 2010-01-01)) && isnotnull(movieId#45))\n",
      "               :                 +- *(1) FileScan csv [movieId#45,rating#46,timestamp#47] Batched: false, Format: CSV, Location: InMemoryFileIndex[file:/C:/Users/andrew.crosby/OneDrive - Auto Trader Group Plc/Presentations/201..., PartitionFilters: [], PushedFilters: [IsNotNull(movieId)], ReadSchema: struct<movieId:string,rating:string,timestamp:string>\n",
      "               +- BroadcastExchange HashedRelationBroadcastMode(ArrayBuffer(input[0, string, true]))\n",
      "                  +- *(2) Project [movieId#10, title#11, genres#12]\n",
      "                     +- *(2) Filter ((isnotnull(genres#12) && Contains(genres#12, Western)) && isnotnull(movieId#10))\n",
      "                        +- *(2) FileScan csv [movieId#10,title#11,genres#12] Batched: false, Format: CSV, Location: InMemoryFileIndex[file:/C:/Users/andrew.crosby/OneDrive - Auto Trader Group Plc/Presentations/201..., PartitionFilters: [], PushedFilters: [IsNotNull(genres), StringContains(genres,Western), IsNotNull(movieId)], ReadSchema: struct<movieId:string,title:string,genres:string>\n",
      "\n",
      "== Physical Plan ==\n",
      "InMemoryTableScan [movieId#45, averageRating#331, count#334L, title#11, genres#12]\n",
      "   +- InMemoryRelation [movieId#45, averageRating#331, count#334L, title#11, genres#12], true, 10000, StorageLevel(disk, memory, deserialized, 1 replicas)\n",
      "         +- *(4) Sort [averageRating#219 DESC NULLS LAST], true, 0\n",
      "            +- Exchange rangepartitioning(averageRating#219 DESC NULLS LAST, 200)\n",
      "               +- *(3) Project [movieId#45, averageRating#219, count#222L, title#11, genres#12]\n",
      "                  +- *(3) BroadcastHashJoin [movieId#45], [movieId#10], Inner, BuildRight\n",
      "                     :- *(3) Filter (count#222L > 100)\n",
      "                     :  +- *(3) HashAggregate(keys=[movieId#45], functions=[avg(cast(rating#46 as double)), count(rating#46)], output=[movieId#45, averageRating#219, count#222L])\n",
      "                     :     +- Exchange hashpartitioning(movieId#45, 200)\n",
      "                     :        +- *(1) HashAggregate(keys=[movieId#45], functions=[partial_avg(cast(rating#46 as double)), partial_count(rating#46)], output=[movieId#45, sum#242, count#243L, count#244L])\n",
      "                     :           +- *(1) Project [movieId#45, rating#46]\n",
      "                     :              +- *(1) Filter (((from_unixtime(cast(timestamp#47 as bigint), yyyy-MM-dd HH:mm:ss, Some(Europe/London)) >= 2009-01-01) && (from_unixtime(cast(timestamp#47 as bigint), yyyy-MM-dd HH:mm:ss, Some(Europe/London)) <= 2010-01-01)) && isnotnull(movieId#45))\n",
      "                     :                 +- *(1) FileScan csv [movieId#45,rating#46,timestamp#47] Batched: false, Format: CSV, Location: InMemoryFileIndex[file:/C:/Users/andrew.crosby/OneDrive - Auto Trader Group Plc/Presentations/201..., PartitionFilters: [], PushedFilters: [IsNotNull(movieId)], ReadSchema: struct<movieId:string,rating:string,timestamp:string>\n",
      "                     +- BroadcastExchange HashedRelationBroadcastMode(ArrayBuffer(input[0, string, true]))\n",
      "                        +- *(2) Project [movieId#10, title#11, genres#12]\n",
      "                           +- *(2) Filter ((isnotnull(genres#12) && Contains(genres#12, Western)) && isnotnull(movieId#10))\n",
      "                              +- *(2) FileScan csv [movieId#10,title#11,genres#12] Batched: false, Format: CSV, Location: InMemoryFileIndex[file:/C:/Users/andrew.crosby/OneDrive - Auto Trader Group Plc/Presentations/201..., PartitionFilters: [], PushedFilters: [IsNotNull(genres), StringContains(genres,Western), IsNotNull(movieId)], ReadSchema: struct<movieId:string,title:string,genres:string>\n"
     ]
    }
   ],
   "source": [
    "combinedQuery.explain(True)"
   ]
  },
  {
   "cell_type": "code",
   "execution_count": 22,
   "metadata": {},
   "outputs": [],
   "source": [
    "spark.stop()"
   ]
  },
  {
   "cell_type": "code",
   "execution_count": null,
   "metadata": {},
   "outputs": [],
   "source": []
  }
 ],
 "metadata": {
  "anaconda-cloud": {},
  "kernelspec": {
   "display_name": "Python [conda env:pyspark]",
   "language": "python",
   "name": "conda-env-pyspark-py"
  },
  "language_info": {
   "codemirror_mode": {
    "name": "ipython",
    "version": 3
   },
   "file_extension": ".py",
   "mimetype": "text/x-python",
   "name": "python",
   "nbconvert_exporter": "python",
   "pygments_lexer": "ipython3",
   "version": "3.6.7"
  }
 },
 "nbformat": 4,
 "nbformat_minor": 1
}
