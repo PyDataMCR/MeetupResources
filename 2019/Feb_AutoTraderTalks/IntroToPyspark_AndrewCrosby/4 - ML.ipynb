{
 "cells": [
  {
   "cell_type": "markdown",
   "metadata": {},
   "source": [
    "# Spark ML example: Predicting the average rating of a film"
   ]
  },
  {
   "cell_type": "code",
   "execution_count": 1,
   "metadata": {},
   "outputs": [],
   "source": [
    "import datetime"
   ]
  },
  {
   "cell_type": "code",
   "execution_count": 2,
   "metadata": {},
   "outputs": [],
   "source": [
    "import findspark\n",
    "findspark.init()"
   ]
  },
  {
   "cell_type": "code",
   "execution_count": 3,
   "metadata": {},
   "outputs": [],
   "source": [
    "from pyspark.sql import SparkSession\n",
    "from pyspark.sql.functions import col\n",
    "import pyspark.sql.functions as F\n",
    "\n",
    "from pyspark.ml import Pipeline\n",
    "from pyspark.ml.feature import VectorAssembler, RegexTokenizer, CountVectorizer, QuantileDiscretizer\n",
    "from pyspark.ml.regression import LinearRegression\n",
    "from pyspark.ml.evaluation import RegressionEvaluator\n",
    "from pyspark.ml.tuning import CrossValidator, ParamGridBuilder"
   ]
  },
  {
   "cell_type": "markdown",
   "metadata": {},
   "source": [
    "### Create a Spark session"
   ]
  },
  {
   "cell_type": "code",
   "execution_count": 4,
   "metadata": {},
   "outputs": [],
   "source": [
    "spark = SparkSession.builder.appName(\"movielens\").master(\"local[2]\").getOrCreate()"
   ]
  },
  {
   "cell_type": "markdown",
   "metadata": {},
   "source": [
    "### Load the Movielens dataset"
   ]
  },
  {
   "cell_type": "code",
   "execution_count": 5,
   "metadata": {},
   "outputs": [],
   "source": [
    "movies = spark.read.format(\"csv\").option(\"header\", \"true\").load(\"data/ml-20m/movies.csv\")\n",
    "ratings = spark.read.format(\"csv\").option(\"header\", \"true\").load(\"data/ml-20m/ratings.csv\")"
   ]
  },
  {
   "cell_type": "markdown",
   "metadata": {},
   "source": [
    "### Generate some possible features"
   ]
  },
  {
   "cell_type": "code",
   "execution_count": 6,
   "metadata": {},
   "outputs": [],
   "source": [
    "averageRatingsAndReviewCounts = ratings.groupBy(\"movieId\").agg(\n",
    "    F.mean(\"rating\").alias(\"averageRating\"), \n",
    "    F.count(\"rating\").alias(\"viewCount\")\n",
    ")\n",
    "features = movies.join(averageRatingsAndReviewCounts, on=\"movieId\").cache()"
   ]
  },
  {
   "cell_type": "code",
   "execution_count": 7,
   "metadata": {},
   "outputs": [
    {
     "name": "stdout",
     "output_type": "stream",
     "text": [
      "+-------+--------------------+--------------------+------------------+---------+\n",
      "|movieId|               title|              genres|     averageRating|viewCount|\n",
      "+-------+--------------------+--------------------+------------------+---------+\n",
      "|    296| Pulp Fiction (1994)|Comedy|Crime|Dram...| 4.174231169217055|    67310|\n",
      "|   1090|      Platoon (1986)|           Drama|War| 3.919977226720648|    15808|\n",
      "|   3959|Time Machine, The...|Action|Adventure|...| 3.699372603694667|     2869|\n",
      "|   2294|         Antz (1998)|Adventure|Animati...| 3.303207714257601|    10163|\n",
      "|   6731|Day of the Dead (...|Horror|Sci-Fi|Thr...|3.5571184995737424|     1173|\n",
      "+-------+--------------------+--------------------+------------------+---------+\n",
      "only showing top 5 rows\n",
      "\n"
     ]
    }
   ],
   "source": [
    "features.show(5)"
   ]
  },
  {
   "cell_type": "markdown",
   "metadata": {},
   "source": [
    "### Categorical features for the generations\n",
    "\n",
    "RegexTokenizer is a transformer"
   ]
  },
  {
   "cell_type": "code",
   "execution_count": 8,
   "metadata": {},
   "outputs": [
    {
     "name": "stdout",
     "output_type": "stream",
     "text": [
      "+-------+--------------------+--------------------+------------------+---------+--------------------+\n",
      "|movieId|               title|              genres|     averageRating|viewCount|           genreList|\n",
      "+-------+--------------------+--------------------+------------------+---------+--------------------+\n",
      "|    296| Pulp Fiction (1994)|Comedy|Crime|Dram...| 4.174231169217055|    67310|[comedy, crime, d...|\n",
      "|   1090|      Platoon (1986)|           Drama|War| 3.919977226720648|    15808|        [drama, war]|\n",
      "|   3959|Time Machine, The...|Action|Adventure|...| 3.699372603694667|     2869|[action, adventur...|\n",
      "|   2294|         Antz (1998)|Adventure|Animati...| 3.303207714257601|    10163|[adventure, anima...|\n",
      "|   6731|Day of the Dead (...|Horror|Sci-Fi|Thr...|3.5571184995737424|     1173|[horror, sci-fi, ...|\n",
      "+-------+--------------------+--------------------+------------------+---------+--------------------+\n",
      "only showing top 5 rows\n",
      "\n"
     ]
    }
   ],
   "source": [
    "genreTokenizer = RegexTokenizer(inputCol=\"genres\", outputCol=\"genreList\", pattern=\"\\|\")\n",
    "\n",
    "featuresWithGenreList = genreTokenizer.transform(features)\n",
    "\n",
    "featuresWithGenreList.show(5)"
   ]
  },
  {
   "cell_type": "markdown",
   "metadata": {},
   "source": [
    "CountVectorizer is an estimator (it produces a CountVectorizerModel that stores the encoding of genres)"
   ]
  },
  {
   "cell_type": "code",
   "execution_count": 10,
   "metadata": {},
   "outputs": [
    {
     "name": "stdout",
     "output_type": "stream",
     "text": [
      "+-------+--------------------+--------------------+------------------+---------+--------------------+--------------------+\n",
      "|movieId|               title|              genres|     averageRating|viewCount|           genreList|       encodedGenres|\n",
      "+-------+--------------------+--------------------+------------------+---------+--------------------+--------------------+\n",
      "|    296| Pulp Fiction (1994)|Comedy|Crime|Dram...| 4.174231169217055|    67310|[comedy, crime, d...|(20,[0,1,2,5],[1....|\n",
      "|   1090|      Platoon (1986)|           Drama|War| 3.919977226720648|    15808|        [drama, war]|(20,[0,12],[1.0,1...|\n",
      "|   3959|Time Machine, The...|Action|Adventure|...| 3.699372603694667|     2869|[action, adventur...|(20,[4,8,9],[1.0,...|\n",
      "|   2294|         Antz (1998)|Adventure|Animati...| 3.303207714257601|    10163|[adventure, anima...|(20,[1,8,11,13,15...|\n",
      "|   6731|Day of the Dead (...|Horror|Sci-Fi|Thr...|3.5571184995737424|     1173|[horror, sci-fi, ...|(20,[2,6,9],[1.0,...|\n",
      "+-------+--------------------+--------------------+------------------+---------+--------------------+--------------------+\n",
      "only showing top 5 rows\n",
      "\n"
     ]
    }
   ],
   "source": [
    "genreVectorizer = CountVectorizer(inputCol=\"genreList\", outputCol=\"encodedGenres\")\n",
    "\n",
    "genreVectorizerModel = genreVectorizer.fit(featuresWithGenreList)\n",
    "\n",
    "featuresWithEncodedGenres = genreVectorizerModel.transform(featuresWithGenreList)\n",
    "\n",
    "featuresWithEncodedGenres.show(5)"
   ]
  },
  {
   "cell_type": "markdown",
   "metadata": {},
   "source": [
    "### View count quantiles\n",
    "\n",
    "QuantilesDiscretizer is an estimator (it produces a QuantileDiscretizerModel that stores the bucket mapping)"
   ]
  },
  {
   "cell_type": "code",
   "execution_count": 11,
   "metadata": {},
   "outputs": [
    {
     "name": "stdout",
     "output_type": "stream",
     "text": [
      "+-------+--------------------+--------------------+------------------+---------+---------------+\n",
      "|movieId|               title|              genres|     averageRating|viewCount|viewCountBucket|\n",
      "+-------+--------------------+--------------------+------------------+---------+---------------+\n",
      "|    296| Pulp Fiction (1994)|Comedy|Crime|Dram...| 4.174231169217055|    67310|            9.0|\n",
      "|   1090|      Platoon (1986)|           Drama|War| 3.919977226720648|    15808|            9.0|\n",
      "|   3959|Time Machine, The...|Action|Adventure|...| 3.699372603694667|     2869|            9.0|\n",
      "|   2294|         Antz (1998)|Adventure|Animati...| 3.303207714257601|    10163|            9.0|\n",
      "|   6731|Day of the Dead (...|Horror|Sci-Fi|Thr...|3.5571184995737424|     1173|            8.0|\n",
      "+-------+--------------------+--------------------+------------------+---------+---------------+\n",
      "only showing top 5 rows\n",
      "\n"
     ]
    }
   ],
   "source": [
    "viewCountQuantileDiscretizer = QuantileDiscretizer(inputCol=\"viewCount\", outputCol=\"viewCountBucket\", numBuckets=10)\n",
    "\n",
    "viewCountQuantileDiscretizerModel = viewCountQuantileDiscretizer.fit(features)\n",
    "\n",
    "viewCountQuantileDiscretizerModel.transform(features).show(5)"
   ]
  },
  {
   "cell_type": "markdown",
   "metadata": {},
   "source": [
    "### Combine into a pipeline\n",
    "\n",
    "Pipeline is just a special estimator that takes a list of stages (transformers or estimators). It will run them in order calling transform or fit as appropriate."
   ]
  },
  {
   "cell_type": "code",
   "execution_count": 12,
   "metadata": {},
   "outputs": [],
   "source": [
    "pipeline = Pipeline(stages=[\n",
    "    RegexTokenizer(inputCol=\"genres\", outputCol=\"genreList\", pattern=\"\\|\"),\n",
    "    CountVectorizer(inputCol=\"genreList\", outputCol=\"encodedGenres\"),\n",
    "    QuantileDiscretizer(inputCol=\"viewCount\", outputCol=\"viewCountBucket\", numBuckets=10),\n",
    "    VectorAssembler(inputCols=[\"encodedGenres\", \"viewCountBucket\"], outputCol=\"features\"),\n",
    "    LinearRegression(featuresCol=\"features\", labelCol=\"averageRating\")\n",
    "])"
   ]
  },
  {
   "cell_type": "code",
   "execution_count": 13,
   "metadata": {},
   "outputs": [],
   "source": [
    "model = pipeline.fit(features)"
   ]
  },
  {
   "cell_type": "code",
   "execution_count": 14,
   "metadata": {},
   "outputs": [
    {
     "name": "stdout",
     "output_type": "stream",
     "text": [
      "+--------------------+--------------------+---------+------------------+------------------+\n",
      "|               title|              genres|viewCount|     averageRating|        prediction|\n",
      "+--------------------+--------------------+---------+------------------+------------------+\n",
      "| Pulp Fiction (1994)|Comedy|Crime|Dram...|    67310| 4.174231169217055| 3.475449274986473|\n",
      "|      Platoon (1986)|           Drama|War|    15808| 3.919977226720648|3.6463014771638766|\n",
      "|Time Machine, The...|Action|Adventure|...|     2869| 3.699372603694667| 3.036707852277163|\n",
      "|         Antz (1998)|Adventure|Animati...|    10163| 3.303207714257601|3.2944912951386804|\n",
      "|Day of the Dead (...|Horror|Sci-Fi|Thr...|     1173|3.5571184995737424|2.7164126878673542|\n",
      "+--------------------+--------------------+---------+------------------+------------------+\n",
      "only showing top 5 rows\n",
      "\n"
     ]
    }
   ],
   "source": [
    "model.transform(features).select(\"title\", \"genres\", \"viewCount\", \"averageRating\", \"prediction\").show(5)"
   ]
  },
  {
   "cell_type": "markdown",
   "metadata": {},
   "source": [
    "Not perfect, but there's definitely some correlation here..."
   ]
  },
  {
   "cell_type": "code",
   "execution_count": 15,
   "metadata": {},
   "outputs": [
    {
     "data": {
      "text/plain": [
       "<matplotlib.axes._subplots.AxesSubplot at 0x18e2022cf60>"
      ]
     },
     "execution_count": 15,
     "metadata": {},
     "output_type": "execute_result"
    },
    {
     "data": {
      "image/png": "[encoded data removed]",
      "text/plain": [
       "<Figure size 432x288 with 1 Axes>"
      ]
     },
     "metadata": {
      "needs_background": "light"
     },
     "output_type": "display_data"
    }
   ],
   "source": [
    "%matplotlib inline\n",
    "\n",
    "preds = model.transform(features).toPandas()\n",
    "preds[preds[\"viewCount\"] > 100].plot.scatter(\"prediction\", \"averageRating\", alpha=0.1)"
   ]
  },
  {
   "cell_type": "markdown",
   "metadata": {},
   "source": [
    "Pulling out the coefficients is a bit painful, but it can be done."
   ]
  },
  {
   "cell_type": "code",
   "execution_count": null,
   "metadata": {},
   "outputs": [],
   "source": [
    "import pandas as pd\n",
    "pd.DataFrame({\"category\": model.stages[1].vocabulary,\"coefficient\": model.stages[-1].coefficients[0:-1]}).sort_values(\"coefficient\")"
   ]
  },
  {
   "cell_type": "markdown",
   "metadata": {},
   "source": [
    "### Evaluation\n",
    "\n",
    "Really easy to evaluate a model using the standard metrics. For regression we have the RegressionEvaluator which calculates the RMS error by default (can be changed)."
   ]
  },
  {
   "cell_type": "code",
   "execution_count": null,
   "metadata": {},
   "outputs": [],
   "source": [
    "evaluator = RegressionEvaluator().setLabelCol(\"averageRating\")"
   ]
  },
  {
   "cell_type": "code",
   "execution_count": null,
   "metadata": {},
   "outputs": [],
   "source": [
    "evaluator.evaluate(model.transform(features))"
   ]
  },
  {
   "cell_type": "markdown",
   "metadata": {},
   "source": [
    "How does that compare to a baseline model where we just use the average rating?"
   ]
  },
  {
   "cell_type": "code",
   "execution_count": null,
   "metadata": {},
   "outputs": [],
   "source": [
    "basePipeline = Pipeline(stages=[\n",
    "    VectorAssembler(inputCols=[], outputCol=\"features\"),\n",
    "    LinearRegression(featuresCol=\"features\", labelCol=\"averageRating\")\n",
    "])\n",
    "\n",
    "baseModel = basePipeline.fit(features)"
   ]
  },
  {
   "cell_type": "code",
   "execution_count": null,
   "metadata": {},
   "outputs": [],
   "source": [
    "baseModel.transform(features).select(\"title\", \"genres\", \"viewCount\", \"averageRating\", \"prediction\").show(5)"
   ]
  },
  {
   "cell_type": "code",
   "execution_count": null,
   "metadata": {},
   "outputs": [],
   "source": [
    "evaluator.evaluate(baseModel.transform(features))"
   ]
  },
  {
   "cell_type": "markdown",
   "metadata": {},
   "source": [
    "### Cross validation\n",
    "\n",
    "Model selection via cross validation is really simple too! Just need to set the number of folds, specify a pipleine, specify an evaluator and, optionally, a set of model parameters to iterate over. CrossValidator is just a special estimator, the model it returns corresponds to the best set of parameters found."
   ]
  },
  {
   "cell_type": "code",
   "execution_count": null,
   "metadata": {},
   "outputs": [],
   "source": [
    "crossValidator = CrossValidator().setNumFolds(3)\\\n",
    "                                 .setEstimator(pipeline)\\\n",
    "                                 .setEvaluator(evaluator)\\\n",
    "                                 .setEstimatorParamMaps(ParamGridBuilder().build())"
   ]
  },
  {
   "cell_type": "code",
   "execution_count": null,
   "metadata": {},
   "outputs": [],
   "source": [
    "crossValidatorModel = crossValidator.fit(features)"
   ]
  },
  {
   "cell_type": "code",
   "execution_count": null,
   "metadata": {},
   "outputs": [],
   "source": [
    "crossValidatorModel.avgMetrics"
   ]
  },
  {
   "cell_type": "code",
   "execution_count": null,
   "metadata": {},
   "outputs": [],
   "source": []
  }
 ],
 "metadata": {
  "anaconda-cloud": {},
  "kernelspec": {
   "display_name": "Python [conda env:pyspark]",
   "language": "python",
   "name": "conda-env-pyspark-py"
  },
  "language_info": {
   "codemirror_mode": {
    "name": "ipython",
    "version": 3
   },
   "file_extension": ".py",
   "mimetype": "text/x-python",
   "name": "python",
   "nbconvert_exporter": "python",
   "pygments_lexer": "ipython3",
   "version": "3.6.7"
  }
 },
 "nbformat": 4,
 "nbformat_minor": 1
}
