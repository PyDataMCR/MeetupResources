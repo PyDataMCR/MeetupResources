{
 "cells": [
  {
   "cell_type": "markdown",
   "metadata": {
    "collapsed": true
   },
   "source": [
    "# Installation instructions - Spark Standalone\n",
    "\n",
    "### Common\n",
    "1. Ensure that Python and Java are installed and added to the PATH environment variable so that they're accessible on the command line. (For Java, both OracleJDK and OpenJDK should work.)\n",
    "2. Download and extract the Spark binaries (http://spark.apache.org/downloads.html).\n",
    "3. Set the SPARK_HOME environment variable the point to their location.\n",
    "4. Use PIP to install the findspark Python library (https://pypi.org/project/findspark/).\n",
    "\n",
    "### Windows specific steps\n",
    "1. Download version 2.3.x of the Spark binaries and not version 2.4.x. There are issues with version 2.4.x on windows: https://stackoverflow.com/questions/53252181/python-worker-failed-to-connect-back.\n",
    "2. Download winutils from https://github.com/steveloughran/winutils\n",
    "3. Set the HADOOP_HOME environment vairable to point to the directory containing bin\\winutils.exe."
   ]
  },
  {
   "cell_type": "markdown",
   "metadata": {},
   "source": [
    "## Test the installation"
   ]
  },
  {
   "cell_type": "code",
   "execution_count": 1,
   "metadata": {},
   "outputs": [],
   "source": [
    "# Locates the pyspark binaries using SPARK_HOME and adds them to sys.path\n",
    "import findspark\n",
    "findspark.init()"
   ]
  },
  {
   "cell_type": "code",
   "execution_count": 2,
   "metadata": {},
   "outputs": [],
   "source": [
    "import pyspark"
   ]
  },
  {
   "cell_type": "code",
   "execution_count": 3,
   "metadata": {},
   "outputs": [],
   "source": [
    "import random\n",
    "from pyspark.sql import SparkSession"
   ]
  },
  {
   "cell_type": "code",
   "execution_count": 4,
   "metadata": {},
   "outputs": [],
   "source": [
    "# Creates a Spark session\n",
    "spark = SparkSession.builder.appName(\"Pi\").getOrCreate()"
   ]
  },
  {
   "cell_type": "code",
   "execution_count": 5,
   "metadata": {},
   "outputs": [],
   "source": [
    "def inside(p):\n",
    "    x, y = random.random(), random.random()\n",
    "    return x*x + y*y < 1.0"
   ]
  },
  {
   "cell_type": "code",
   "execution_count": 6,
   "metadata": {},
   "outputs": [
    {
     "name": "stdout",
     "output_type": "stream",
     "text": [
      "3.1416884\n"
     ]
    }
   ],
   "source": [
    "num_samples = 10000000\n",
    "\n",
    "count = spark.sparkContext.parallelize(range(num_samples)).filter(inside).count()\n",
    "\n",
    "pi = 4 * count / num_samples\n",
    "print(pi)"
   ]
  },
  {
   "cell_type": "code",
   "execution_count": 7,
   "metadata": {},
   "outputs": [],
   "source": [
    "spark.stop()"
   ]
  },
  {
   "cell_type": "markdown",
   "metadata": {},
   "source": [
    "### Aside: estimating Pi"
   ]
  },
  {
   "cell_type": "code",
   "execution_count": 8,
   "metadata": {},
   "outputs": [
    {
     "data": {
      "text/plain": [
       "<matplotlib.collections.PathCollection at 0x24cd0a73748>"
      ]
     },
     "execution_count": 8,
     "metadata": {},
     "output_type": "execute_result"
    },
    {
     "data": {
      "image/png": "[encoded data removed]",
      "text/plain": [
       "<Figure size 432x288 with 1 Axes>"
      ]
     },
     "metadata": {
      "needs_background": "light"
     },
     "output_type": "display_data"
    }
   ],
   "source": [
    "%matplotlib inline\n",
    "import matplotlib.pyplot as plt\n",
    "\n",
    "def colour(xy):\n",
    "    x = xy[0]\n",
    "    y = xy[1]\n",
    "    if x*x + y*y < 1.0:\n",
    "        return \"red\"\n",
    "    return \"blue\"\n",
    "\n",
    "n = 10000\n",
    "x = list(map(lambda x: random.random(), range(n)))\n",
    "y = list(map(lambda x: random.random(), range(n)))\n",
    "c = list(map(colour, zip(x,y)))\n",
    "\n",
    "plt.gca().axis('equal')\n",
    "plt.scatter(x,y,c=c)"
   ]
  },
  {
   "cell_type": "code",
   "execution_count": null,
   "metadata": {},
   "outputs": [],
   "source": []
  }
 ],
 "metadata": {
  "anaconda-cloud": {},
  "kernelspec": {
   "display_name": "Python [conda env:pyspark]",
   "language": "python",
   "name": "conda-env-pyspark-py"
  },
  "language_info": {
   "codemirror_mode": {
    "name": "ipython",
    "version": 3
   },
   "file_extension": ".py",
   "mimetype": "text/x-python",
   "name": "python",
   "nbconvert_exporter": "python",
   "pygments_lexer": "ipython3",
   "version": "3.6.7"
  }
 },
 "nbformat": 4,
 "nbformat_minor": 1
}
